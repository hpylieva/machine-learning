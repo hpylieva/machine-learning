{
 "cells": [
  {
   "cell_type": "markdown",
   "metadata": {},
   "source": [
    "# Indoor localization"
   ]
  },
  {
   "cell_type": "markdown",
   "metadata": {},
   "source": [
    "An indoor positioning system (IPS) is a system to locate objects or people inside a building using radio waves, magnetic fields, acoustic signals, or other sensory information collected by mobile devices. There are several commercial systems on the market, but there is no standard for an IPS system.\n",
    "\n",
    "IPSes use different technologies, including distance measurement to nearby anchor nodes (nodes with known positions, e.g., WiFi access points), magnetic positioning, dead reckoning. They either actively locate mobile devices and tags or provide ambient location or environmental context for devices to get sensed.\n",
    "\n",
    "According to the [report](https://www.marketsandmarkets.com/Market-Reports/indoor-positioning-navigation-ipin-market-989.html), the global indoor location market size is expected to grow from USD 7.11 Billion in 2017 to USD 40.99 Billion by 2022, at a Compound Annual Growth Rate (CAGR) of 42.0% during the forecast period. Hassle-free navigation, improved decision-making, and increased adoption of connected devices are boosting the growth of the indoor location market across the globe.\n",
    "\n",
    "In this problem, you are going to use signals from seven different wi-fi access points to define in which room the user is located."
   ]
  },
  {
   "cell_type": "code",
   "execution_count": 88,
   "metadata": {
    "collapsed": false
   },
   "outputs": [],
   "source": [
    "import pandas\n",
    "import numpy as np\n",
    "from xgboost import XGBClassifier\n",
    "from sklearn.metrics import accuracy_score\n",
    "from sklearn.model_selection import GridSearchCV   #Perforing grid search"
   ]
  },
  {
   "cell_type": "markdown",
   "metadata": {},
   "source": [
    "Loading the data and breaking it into training and cross-validation sets."
   ]
  },
  {
   "cell_type": "code",
   "execution_count": 89,
   "metadata": {
    "collapsed": false
   },
   "outputs": [],
   "source": [
    "train_set = pandas.read_csv('train_set.csv')\n",
    "cv_set = pandas.read_csv('cv_set.csv')\n",
    "\n",
    "train_data = train_set[['wifi'+str(i) for i in range(1, len(train_set.columns) - 1)]]\n",
    "train_labels = train_set['room']\n",
    "cv_data = cv_set[['wifi'+str(i) for i in range(1, len(cv_set.columns) - 1)]]\n",
    "cv_labels = cv_set['room']"
   ]
  },
  {
   "cell_type": "code",
   "execution_count": 90,
   "metadata": {
    "collapsed": false
   },
   "outputs": [
    {
     "name": "stdout",
     "output_type": "stream",
     "text": [
      "   wifi1  wifi2  wifi3  wifi4  wifi5  wifi6  wifi7\n",
      "0    -68    -57    -61    -65    -71    -85    -85\n",
      "1    -63    -60    -60    -67    -76    -85    -84\n",
      "2    -61    -60    -68    -62    -77    -90    -80\n",
      "3    -65    -61    -65    -67    -69    -87    -84\n",
      "4    -61    -63    -58    -66    -74    -87    -82\n",
      "5    -62    -60    -66    -68    -80    -86    -91\n",
      "6    -65    -59    -61    -67    -72    -86    -81\n",
      "7    -63    -57    -61    -65    -73    -84    -84\n",
      "8    -66    -60    -65    -62    -70    -85    -83\n",
      "9    -67    -60    -59    -61    -71    -86    -91\n",
      "0    1\n",
      "1    1\n",
      "2    1\n",
      "3    1\n",
      "4    1\n",
      "5    1\n",
      "6    1\n",
      "7    1\n",
      "8    1\n",
      "9    1\n",
      "Name: room, dtype: int64\n"
     ]
    }
   ],
   "source": [
    "print(train_data[:10])\n",
    "print(train_labels[:10])\n"
   ]
  },
  {
   "cell_type": "code",
   "execution_count": 91,
   "metadata": {
    "collapsed": false
   },
   "outputs": [
    {
     "name": "stdout",
     "output_type": "stream",
     "text": [
      "   wifi1  wifi2  wifi3  wifi4  wifi5  wifi6  wifi7\n",
      "0    -64    -56    -61    -66    -71    -82    -81\n",
      "1    -63    -65    -60    -63    -77    -81    -87\n",
      "2    -64    -55    -63    -66    -76    -88    -83\n",
      "3    -65    -60    -59    -63    -76    -86    -82\n",
      "4    -67    -61    -62    -67    -77    -83    -91\n",
      "5    -61    -59    -65    -63    -74    -89    -87\n",
      "6    -63    -56    -63    -65    -72    -82    -89\n",
      "7    -66    -59    -64    -68    -68    -97    -83\n",
      "8    -67    -57    -64    -71    -75    -89    -87\n",
      "9    -63    -57    -59    -67    -71    -82    -93\n",
      "0    1\n",
      "1    1\n",
      "2    1\n",
      "3    1\n",
      "4    1\n",
      "5    1\n",
      "6    1\n",
      "7    1\n",
      "8    1\n",
      "9    1\n",
      "Name: room, dtype: int64\n"
     ]
    }
   ],
   "source": [
    "print(cv_data[:10])\n",
    "print(cv_labels[:10])"
   ]
  },
  {
   "cell_type": "code",
   "execution_count": 92,
   "metadata": {
    "collapsed": false
   },
   "outputs": [
    {
     "name": "stdout",
     "output_type": "stream",
     "text": [
      "1603\n",
      "397\n"
     ]
    }
   ],
   "source": [
    "print(len(train_labels))\n",
    "print(len(cv_labels))"
   ]
  },
  {
   "cell_type": "markdown",
   "metadata": {},
   "source": [
    "### Training XGBoost regressor"
   ]
  },
  {
   "cell_type": "code",
   "execution_count": 102,
   "metadata": {
    "collapsed": true
   },
   "outputs": [],
   "source": [
    "import warnings\n",
    "warnings.filterwarnings('ignore')"
   ]
  },
  {
   "cell_type": "code",
   "execution_count": 117,
   "metadata": {
    "collapsed": false
   },
   "outputs": [
    {
     "data": {
      "text/plain": [
       "XGBClassifier(base_score=0.5, booster='gbtree', colsample_bylevel=1,\n",
       "       colsample_bytree=1, gamma=0, learning_rate=0.1, max_delta_step=0,\n",
       "       max_depth=3, min_child_weight=1, missing=None, n_estimators=100,\n",
       "       n_jobs=1, nthread=None, objective='multi:softprob', random_state=0,\n",
       "       reg_alpha=0, reg_lambda=1, scale_pos_weight=1, seed=None,\n",
       "       silent=True, subsample=1)"
      ]
     },
     "execution_count": 117,
     "metadata": {},
     "output_type": "execute_result"
    }
   ],
   "source": [
    "# fit XGBoost regressor without parameters to training data\n",
    "\n",
    "model = XGBClassifier()\n",
    "model.fit(train_data, train_labels)"
   ]
  },
  {
   "cell_type": "code",
   "execution_count": 118,
   "metadata": {
    "collapsed": false
   },
   "outputs": [],
   "source": [
    "def predict(model):\n",
    "    # make predictions for CV data\n",
    "    pred_labels = model.predict(cv_data)\n",
    "\n",
    "    # evaluate predictions\n",
    "    accuracy = accuracy_score(cv_labels, pred_labels)\n",
    "    print(\"Accuracy: %.2f%%\" % (accuracy * 100.0))"
   ]
  },
  {
   "cell_type": "code",
   "execution_count": 119,
   "metadata": {
    "collapsed": false
   },
   "outputs": [
    {
     "name": "stdout",
     "output_type": "stream",
     "text": [
      "Accuracy: 98.24%\n"
     ]
    }
   ],
   "source": [
    "predict(model)"
   ]
  },
  {
   "cell_type": "markdown",
   "metadata": {},
   "source": [
    "### Tuning hyperparameters"
   ]
  },
  {
   "cell_type": "code",
   "execution_count": 174,
   "metadata": {
    "collapsed": false
   },
   "outputs": [],
   "source": [
    "# Here I was playing with aprameters. I know that GridSearchCV does CV on the given set whereas \n",
    "# in our task we need to maximize the accuracy on a given CV data set\n",
    "# But at least by GridSearchCV a had a more narrow place, where to find optimal parameters\n",
    "\n",
    "param_test1 = {\n",
    " 'learning_rate':np.arange(0.5,1.0,0.02)\n",
    "}\n",
    "\n",
    "param_test2 = {\n",
    " 'subsample':np.arange(0.5,1.01,0.02)\n",
    "}\n",
    "\n",
    "param_test3 = {\n",
    " 'max_depth':range(3,10,2),\n",
    " 'min_child_weight':range(1,6,2)\n",
    "}\n",
    "\n",
    "param_test4 = {\n",
    " 'gamma':[i/10.0 for i in range(0,5)]\n",
    "}"
   ]
  },
  {
   "cell_type": "code",
   "execution_count": 175,
   "metadata": {
    "collapsed": false
   },
   "outputs": [
    {
     "data": {
      "text/plain": [
       "([mean: 0.97442, std: 0.00781, params: {'gamma': 0.0},\n",
       "  mean: 0.97567, std: 0.00608, params: {'gamma': 0.1},\n",
       "  mean: 0.97193, std: 0.00662, params: {'gamma': 0.2},\n",
       "  mean: 0.97442, std: 0.00533, params: {'gamma': 0.3},\n",
       "  mean: 0.97380, std: 0.00547, params: {'gamma': 0.4}],\n",
       " {'gamma': 0.1},\n",
       " 0.975670617592015)"
      ]
     },
     "execution_count": 175,
     "metadata": {},
     "output_type": "execute_result"
    }
   ],
   "source": [
    "gsearch = GridSearchCV(estimator = XGBClassifier(n_estimators=200, learning_rate=0.82, seed = 123, subsample = 1),\n",
    "                      param_grid = param_test4,\n",
    "                      scoring = 'accuracy')\n",
    "\n",
    "gsearch.fit(train_data,train_labels)\n",
    "gsearch.grid_scores_, gsearch.best_params_, gsearch.best_score_"
   ]
  },
  {
   "cell_type": "code",
   "execution_count": 186,
   "metadata": {
    "collapsed": false
   },
   "outputs": [
    {
     "name": "stdout",
     "output_type": "stream",
     "text": [
      "Accuracy: 99.24%\n"
     ]
    }
   ],
   "source": [
    "#the final resut after I've played around with parameteres\n",
    "\n",
    "tuned_model =  XGBClassifier(base_score=0.5, booster='gbtree', colsample_bylevel=1,\n",
    "       colsample_bytree=1, gamma=0, learning_rate=0.82, max_delta_step=0,\n",
    "       max_depth=3, min_child_weight=1, missing=None, n_estimators=200,\n",
    "       n_jobs=1, nthread=None, objective='multi:softprob', random_state=0,\n",
    "       reg_alpha=0, reg_lambda=1, scale_pos_weight=1, seed=123,\n",
    "       silent=True, subsample=1)\n",
    "           \n",
    "tuned_model.fit(train_data, train_labels)\n",
    "\n",
    "predict(tuned_model)"
   ]
  }
 ],
 "metadata": {
  "kernelspec": {
   "display_name": "Python 3",
   "language": "python",
   "name": "python3"
  },
  "language_info": {
   "codemirror_mode": {
    "name": "ipython",
    "version": 3
   },
   "file_extension": ".py",
   "mimetype": "text/x-python",
   "name": "python",
   "nbconvert_exporter": "python",
   "pygments_lexer": "ipython3",
   "version": "3.5.2"
  }
 },
 "nbformat": 4,
 "nbformat_minor": 2
}
