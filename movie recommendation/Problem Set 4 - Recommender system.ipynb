{
 "cells": [
  {
   "cell_type": "markdown",
   "metadata": {},
   "source": [
    "# Recommender system"
   ]
  },
  {
   "cell_type": "code",
   "execution_count": 2,
   "metadata": {},
   "outputs": [],
   "source": [
    "import csv\n",
    "import numpy as np\n",
    "from scipy.sparse import lil_matrix"
   ]
  },
  {
   "cell_type": "markdown",
   "metadata": {},
   "source": [
    "### Data loader\n",
    "\n",
    "Loading the data and representing it as a sparce utility matrix (review_data).\n",
    "\n",
    "Note that indeces in the dataset are not sequential. That is why we create a separate function for translating dataset indices into unitily matrix (review_data) indices and back."
   ]
  },
  {
   "cell_type": "code",
   "execution_count": 3,
   "metadata": {},
   "outputs": [],
   "source": [
    "users_index = []\n",
    "movies_index = []\n",
    "\n",
    "num_users_processed = 0\n",
    "num_movies_processed = 0\n",
    "\n",
    "def get_user_index(dataset_user_id):\n",
    "    global num_users_processed\n",
    "    if dataset_user_id not in users_index:\n",
    "        users_index.append(dataset_user_id)\n",
    "        num_users_processed += 1\n",
    "    return users_index.index(dataset_user_id)\n",
    "\n",
    "def get_movie_index(dataset_movie_id):\n",
    "    global num_movies_processed\n",
    "    if dataset_movie_id not in movies_index:\n",
    "        movies_index.append(dataset_movie_id)\n",
    "        num_movies_processed += 1\n",
    "    return movies_index.index(dataset_movie_id)"
   ]
  },
  {
   "cell_type": "code",
   "execution_count": 4,
   "metadata": {},
   "outputs": [
    {
     "name": "stdout",
     "output_type": "stream",
     "text": [
      "Processed  10000 records out of 100k.\n",
      "Processed  20000 records out of 100k.\n",
      "Processed  30000 records out of 100k.\n",
      "Processed  40000 records out of 100k.\n",
      "Processed  50000 records out of 100k.\n",
      "Processed  60000 records out of 100k.\n",
      "Processed  70000 records out of 100k.\n",
      "Processed  80000 records out of 100k.\n",
      "Processed  90000 records out of 100k.\n",
      "Processed  100000 records out of 100k.\n"
     ]
    }
   ],
   "source": [
    "num_movies = 9125\n",
    "num_users = 671\n",
    "\n",
    "review_data = lil_matrix((num_users, num_movies))\n",
    "\n",
    "data_file = 'ratings.csv' \n",
    "\n",
    "with open(data_file) as ratings_file:\n",
    "    rating_reader = csv.reader(ratings_file, delimiter=',')\n",
    "    next(rating_reader)\n",
    "    iter = 0\n",
    "\n",
    "    for record in rating_reader:\n",
    "        user_id, movie_id, rating, _ = record\n",
    "        user_id = get_user_index(int(user_id))\n",
    "        movie_id = get_movie_index(int(movie_id))\n",
    "        rating = float(rating)\n",
    "        review_data[user_id, movie_id] = rating\n",
    "        iter += 1\n",
    "        if iter % 10000 == 0: print('Processed ', iter, 'records out of 100k.')"
   ]
  },
  {
   "cell_type": "code",
   "execution_count": 12,
   "metadata": {},
   "outputs": [
    {
     "data": {
      "text/plain": [
       "(671, 9125)"
      ]
     },
     "execution_count": 12,
     "metadata": {},
     "output_type": "execute_result"
    }
   ],
   "source": [
    "review_data.get_shape()"
   ]
  },
  {
   "cell_type": "code",
   "execution_count": 5,
   "metadata": {},
   "outputs": [],
   "source": [
    "movies = {}\n",
    "\n",
    "data_file = 'movies.csv' \n",
    "\n",
    "with open(data_file) as movie_file:\n",
    "    movie_reader = csv.reader(movie_file, delimiter=',')\n",
    "    next(movie_reader)\n",
    "    for record in movie_reader:\n",
    "        movie_id, title, _ = record\n",
    "        movies[int(movie_id)] = title"
   ]
  },
  {
   "cell_type": "code",
   "execution_count": 6,
   "metadata": {},
   "outputs": [],
   "source": [
    "def get_movie_name_by_id(id):\n",
    "    dataset_movie_id = movies_index[id]\n",
    "    return movies[dataset_movie_id]\n",
    "\n",
    "def get_movie_id_by_name(movie_name):\n",
    "    movie_data_id = int(list(movies.keys())[list(movies.values()).index(movie_name)]) #updated line\n",
    "    return movies_index.index(movie_data_id)"
   ]
  },
  {
   "cell_type": "code",
   "execution_count": 15,
   "metadata": {},
   "outputs": [
    {
     "data": {
      "text/plain": [
       "402"
      ]
     },
     "execution_count": 15,
     "metadata": {},
     "output_type": "execute_result"
    }
   ],
   "source": [
    "get_movie_id_by_name(\"Matrix, The (1999)\")"
   ]
  },
  {
   "cell_type": "code",
   "execution_count": 22,
   "metadata": {},
   "outputs": [
    {
     "data": {
      "text/plain": [
       "'Matrix, The (1999)'"
      ]
     },
     "execution_count": 22,
     "metadata": {},
     "output_type": "execute_result"
    }
   ],
   "source": [
    "get_movie_name_by_id(402)"
   ]
  },
  {
   "cell_type": "markdown",
   "metadata": {},
   "source": [
    "### Item-item collaborative filtering\n",
    "\n",
    "Please compute item-item collaborative filtering from the utility matrix (review_data). The output of your computation should be pairwise similarities between all movies.\n",
    "\n",
    "As the order of the pair does not change the similarity metric, you can represent it as a dictionary with use [frozensets](https://docs.python.org/2.4/lib/types-set.html) as its keys. For example:\n",
    "\n",
    "similarity = {}\n",
    "\n",
    "similarity[frozenset(movie1_id, movie2_id)] = 0.67"
   ]
  },
  {
   "cell_type": "code",
   "execution_count": 81,
   "metadata": {},
   "outputs": [],
   "source": [
    "# similarity = {}\n",
    "\n",
    "# --------------- YOUR CODE HERE ---------------\n",
    "def cos_similarity(matrix):\n",
    "    \"\"\"\n",
    "    Calculating pairwise cosine distance for a sparse matrix\n",
    "    \n",
    "    This results in the same as the following but takes more time to work:\n",
    "    >> from sklearn.metrics.pairwise import cosine_similarity\n",
    "    >> similarity = cosine_similarity(review_data.transpose())\n",
    "    \"\"\"\n",
    "    dense_matrix = matrix.todense()\n",
    "    dot_product = np.dot(dense_matrix.transpose(), dense_matrix)\n",
    "    norm = np.linalg.norm(dense_matrix, axis=0)\n",
    "    norm_product = np.outer(norm, norm)\n",
    "    similarity = np.zeros(dot_product.shape)\n",
    "    np.divide(dot_product, norm_product, out = similarity, where = (norm_product!=0))\n",
    "    return similarity\n",
    "\n",
    "# ----------------------------------------------"
   ]
  },
  {
   "cell_type": "code",
   "execution_count": 82,
   "metadata": {},
   "outputs": [],
   "source": [
    "similarity = cos_similarity(review_data)"
   ]
  },
  {
   "cell_type": "markdown",
   "metadata": {},
   "source": [
    "### Finding most similar movies\n",
    "\n",
    "Using your item-item similarity, find 5 movies you would recommend the someone who likes the following:\n",
    "- Matrix, The (1999)\n",
    "- Toy Story (1995)\n",
    "- From Dusk Till Dawn (1996)\n",
    "- Gone with the Wind (1939)\n",
    "- Iron Man (2008)\n",
    "\n",
    "In other words, find 5 most similar movies to each of the above using your similarity metric. You may find useful functions get_movie_name_by_id() and get_movie_id_by_name() here."
   ]
  },
  {
   "cell_type": "code",
   "execution_count": 83,
   "metadata": {},
   "outputs": [
    {
     "name": "stdout",
     "output_type": "stream",
     "text": [
      "Recommendations for those who liked \"Matrix, The (1999)\":\n",
      "Lord of the Rings: The Fellowship of the Ring, The (2001)\n",
      "Lord of the Rings: The Two Towers, The (2002)\n",
      "Fight Club (1999)\n",
      "Back to the Future (1985)\n",
      "Lord of the Rings: The Return of the King, The (2003)\n",
      "\n",
      "\n",
      "Recommendations for those who liked \"Toy Story (1995)\":\n",
      "Toy Story 2 (1999)\n",
      "Star Wars: Episode IV - A New Hope (1977)\n",
      "Forrest Gump (1994)\n",
      "Independence Day (a.k.a. ID4) (1996)\n",
      "Groundhog Day (1993)\n",
      "\n",
      "\n",
      "Recommendations for those who liked \"From Dusk Till Dawn (1996)\":\n",
      "Nightmare on Elm Street, A (1984)\n",
      "Sleepy Hollow (1999)\n",
      "Batman Returns (1992)\n",
      "Candyman (1992)\n",
      "Alien³ (a.k.a. Alien 3) (1992)\n",
      "\n",
      "\n",
      "Recommendations for those who liked \"Gone with the Wind (1939)\":\n",
      "Casablanca (1942)\n",
      "It's a Wonderful Life (1946)\n",
      "Wizard of Oz, The (1939)\n",
      "African Queen, The (1951)\n",
      "North by Northwest (1959)\n",
      "\n",
      "\n",
      "Recommendations for those who liked \"Iron Man (2008)\":\n",
      "Dark Knight, The (2008)\n",
      "Star Trek (2009)\n",
      "Batman Begins (2005)\n",
      "Avatar (2009)\n",
      "Avengers, The (2012)\n",
      "\n",
      "\n"
     ]
    }
   ],
   "source": [
    "# --------------- YOUR CODE HERE ---------------\n",
    "predict_movies = [\n",
    "    \"Matrix, The (1999)\"\n",
    "    ,\"Toy Story (1995)\"\n",
    "    ,\"From Dusk Till Dawn (1996)\"\n",
    "    ,\"Gone with the Wind (1939)\"\n",
    "    ,\"Iron Man (2008)\"\n",
    "]\n",
    "\n",
    "def recommend(movie_name, similarities, n_recommendations = 5):\n",
    "    \"\"\"\n",
    "    Returns movies which are most similar to movie_name\n",
    "    according to similarities matrix\n",
    "    \n",
    "    Movies are returned in descending order by similarity\n",
    "    \"\"\"\n",
    "    movie_id = get_movie_id_by_name(movie_name)\n",
    "    # take -similarities to receive sorting in descending order\n",
    "    recommended_ids = (-similarities[movie_id]).argsort()[1:(n_recommendations+1)]\n",
    "    return [get_movie_name_by_id(movie_id) for movie_id in recommended_ids]\n",
    "\n",
    "for movie in predict_movies:\n",
    "    print('Recommendations for those who liked \"{}\":'.format(movie))\n",
    "    print('\\n'.join(recommend(movie, similarity)))\n",
    "    print('\\n')\n",
    "\n",
    "# ----------------------------------------------"
   ]
  }
 ],
 "metadata": {
  "kernelspec": {
   "display_name": "Python 3",
   "language": "python",
   "name": "python3"
  },
  "language_info": {
   "codemirror_mode": {
    "name": "ipython",
    "version": 3
   },
   "file_extension": ".py",
   "mimetype": "text/x-python",
   "name": "python",
   "nbconvert_exporter": "python",
   "pygments_lexer": "ipython3",
   "version": "3.5.2"
  }
 },
 "nbformat": 4,
 "nbformat_minor": 2
}
