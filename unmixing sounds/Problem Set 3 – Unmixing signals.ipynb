{
 "cells": [
  {
   "cell_type": "markdown",
   "metadata": {},
   "source": [
    "# Unmixing signals with ICA"
   ]
  },
  {
   "cell_type": "markdown",
   "metadata": {},
   "source": [
    "Unmixing sound signals is an example of cocktail party problem you are going to use for getting hands-on experience with ICA. You have 5 mixed sound sources in **mixed** folder (go check them out). Your goal is to unmix them."
   ]
  },
  {
   "cell_type": "code",
   "execution_count": 1,
   "metadata": {},
   "outputs": [],
   "source": [
    "import scipy.io.wavfile\n",
    "import numpy as np"
   ]
  },
  {
   "cell_type": "markdown",
   "metadata": {},
   "source": [
    "### Loading data from WAV files"
   ]
  },
  {
   "cell_type": "markdown",
   "metadata": {},
   "source": [
    "Loading data from WAV files"
   ]
  },
  {
   "cell_type": "code",
   "execution_count": 2,
   "metadata": {},
   "outputs": [
    {
     "name": "stdout",
     "output_type": "stream",
     "text": [
      "(53442, 5)\n",
      "[[ 343 -546 -327 -275  612]\n",
      " [ 627 -840 -579 -124  890]\n",
      " [ 589 -725 -491 -115  989]\n",
      " [ 712 -887 -571  -24 1111]\n",
      " [ 589 -725 -491 -115  989]\n",
      " [ 268 -462 -146 -236  678]\n",
      " [ 107 -330   27 -296  522]\n",
      " [-214  -67  372 -416  211]\n",
      " [-214  -67  372 -416  211]\n",
      " [ 159 -206  -26 -233  445]]\n"
     ]
    }
   ],
   "source": [
    "dataset = []\n",
    "for i in range(1,6):\n",
    "    sample_rate, wav_data = scipy.io.wavfile.read('mixed/mix'+str(i)+'.wav')\n",
    "    dataset.append(wav_data)\n",
    "\n",
    "dataset = np.array(dataset).T\n",
    "print(dataset.shape)\n",
    "print(dataset[:10,:])"
   ]
  },
  {
   "cell_type": "markdown",
   "metadata": {},
   "source": [
    "Normalizing data"
   ]
  },
  {
   "cell_type": "code",
   "execution_count": 3,
   "metadata": {},
   "outputs": [
    {
     "name": "stdout",
     "output_type": "stream",
     "text": [
      "[[ 0.01046796 -0.01666328 -0.00997965 -0.00839268  0.01867752]\n",
      " [ 0.0191353  -0.02563581 -0.0176704  -0.00378433  0.02716175]\n",
      " [ 0.01797558 -0.02212614 -0.01498474 -0.00350966  0.03018311]\n",
      " [ 0.0217294  -0.02707019 -0.01742625 -0.00073245  0.03390641]\n",
      " [ 0.01797558 -0.02212614 -0.01498474 -0.00350966  0.03018311]\n",
      " [ 0.00817904 -0.01409969 -0.00445575 -0.00720244  0.02069176]\n",
      " [ 0.00326551 -0.01007121  0.00082401 -0.00903357  0.01593082]\n",
      " [-0.00653103 -0.00204476  0.011353   -0.01269583  0.00643947]\n",
      " [-0.00653103 -0.00204476  0.011353   -0.01269583  0.00643947]\n",
      " [ 0.00485249 -0.00628688 -0.00079349 -0.00711089  0.01358087]]\n"
     ]
    }
   ],
   "source": [
    "maxs = np.max(np.abs(dataset), axis=0).astype(np.int64)\n",
    "data_normalized = 0.99 * dataset / maxs;\n",
    "print(data_normalized[:10,:])"
   ]
  },
  {
   "cell_type": "markdown",
   "metadata": {},
   "source": [
    "### Implementing ICA"
   ]
  },
  {
   "cell_type": "markdown",
   "metadata": {},
   "source": [
    "Initializing unmixing matrix $ W $."
   ]
  },
  {
   "cell_type": "code",
   "execution_count": 54,
   "metadata": {},
   "outputs": [],
   "source": [
    "W = np.identity(5)"
   ]
  },
  {
   "cell_type": "markdown",
   "metadata": {},
   "source": [
    "Implement learning unmixing matrix $ W $ with ICA."
   ]
  },
  {
   "cell_type": "code",
   "execution_count": 75,
   "metadata": {},
   "outputs": [
    {
     "name": "stdout",
     "output_type": "stream",
     "text": [
      "Iteration: 0 Norm(W-W_old): 47.959\n",
      "Iteration: 1 Norm(W-W_old): 13.114\n",
      "Iteration: 2 Norm(W-W_old): 8.086\n",
      "Iteration: 3 Norm(W-W_old): 5.951\n",
      "Iteration: 4 Norm(W-W_old): 4.816\n",
      "Iteration: 5 Norm(W-W_old): 4.078\n",
      "Iteration: 6 Norm(W-W_old): 3.505\n",
      "Iteration: 7 Norm(W-W_old): 3.028\n",
      "Iteration: 8 Norm(W-W_old): 2.623\n",
      "Iteration: 9 Norm(W-W_old): 2.278\n",
      "Iteration: 10 Norm(W-W_old): 1.981\n",
      "Iteration: 11 Norm(W-W_old): 1.727\n",
      "Iteration: 12 Norm(W-W_old): 1.509\n",
      "Iteration: 13 Norm(W-W_old): 1.323\n",
      "Iteration: 14 Norm(W-W_old): 1.165\n",
      "Iteration: 15 Norm(W-W_old): 1.031\n",
      "Iteration: 16 Norm(W-W_old): 0.917\n",
      "Iteration: 17 Norm(W-W_old): 0.820\n",
      "Iteration: 18 Norm(W-W_old): 0.738\n",
      "Iteration: 19 Norm(W-W_old): 0.667\n",
      "Iteration: 20 Norm(W-W_old): 0.607\n",
      "Iteration: 21 Norm(W-W_old): 0.556\n",
      "Iteration: 22 Norm(W-W_old): 0.511\n",
      "Iteration: 23 Norm(W-W_old): 0.473\n",
      "Iteration: 24 Norm(W-W_old): 0.440\n",
      "Iteration: 25 Norm(W-W_old): 0.410\n",
      "Iteration: 26 Norm(W-W_old): 0.384\n",
      "Iteration: 27 Norm(W-W_old): 0.361\n",
      "Iteration: 28 Norm(W-W_old): 0.341\n",
      "Iteration: 29 Norm(W-W_old): 0.322\n",
      "Iteration: 30 Norm(W-W_old): 0.305\n",
      "Iteration: 31 Norm(W-W_old): 0.290\n",
      "Iteration: 32 Norm(W-W_old): 0.275\n",
      "Iteration: 33 Norm(W-W_old): 0.262\n",
      "Iteration: 34 Norm(W-W_old): 0.250\n",
      "Iteration: 35 Norm(W-W_old): 0.239\n",
      "Iteration: 36 Norm(W-W_old): 0.229\n",
      "Iteration: 37 Norm(W-W_old): 0.219\n",
      "Algorithm converged. W found. Stop early.\n"
     ]
    }
   ],
   "source": [
    "# =============== TODO: Your code here ===============\n",
    "# Implement learning unmixing matrix W with ICA. Do not forget to account for the dimensionality.\n",
    "def sigmoid(x):\n",
    "    return 1/(1 + np.exp(-x))\n",
    "\n",
    "def learn_w(X):\n",
    "    # algorithm to learn matrix W\n",
    "    alpha = 0.01\n",
    "    eps = 0.01\n",
    "    m, n = X.shape\n",
    "    loss_history = []\n",
    "    W = np.identity(n)\n",
    "    \n",
    "    for iteration in range(100): \n",
    "        W_old = W.copy()\n",
    "        for x_i in X:\n",
    "            gradient = 1 - 2 * sigmoid(np.dot(W, x_i))\n",
    "            W += alpha*(np.outer(gradient, x_i) + np.linalg.inv(W.T))    \n",
    "        loss = np.linalg.norm(W - W_old)\n",
    "        print(\"Iteration: {0} Norm(W-W_old): {1:0.3f}\".format(iteration, loss))\n",
    "        loss_history.append(loss)\n",
    "        if len(loss_history)>2 and abs(loss_history[-1]-loss_history[-2]) < eps:\n",
    "            print(\"Algorithm converged. W found. Stop early.\")\n",
    "            break\n",
    "    return W, loss_history\n",
    "\n",
    "W, loss_history  = learn_w(data_normalized)\n",
    "# =================\"==================================="
   ]
  },
  {
   "cell_type": "code",
   "execution_count": 76,
   "metadata": {},
   "outputs": [
    {
     "name": "stdout",
     "output_type": "stream",
     "text": [
      "Learned W with Gradient Descent:\n",
      "\n",
      " [[ 63.481  18.885  25.169 -9.446 -15.008]\n",
      " [ 11.067  23.965 -4.568 -17.397  7.733]\n",
      " [ 14.394 -6.718  26.002  12.145 -13.134]\n",
      " [-7.034  2.182 -5.651  9.986 -1.679]\n",
      " [-3.244  17.277  12.524  8.894  27.609]]\n"
     ]
    }
   ],
   "source": [
    "np.set_printoptions(formatter={'float': '{: 0.3f}'.format})\n",
    "print(\"Learned W with Gradient Descent:\\n\\n\", W)"
   ]
  },
  {
   "cell_type": "code",
   "execution_count": 66,
   "metadata": {},
   "outputs": [],
   "source": [
    "from matplotlib import pyplot as plt\n",
    "%matplotlib inline"
   ]
  },
  {
   "cell_type": "code",
   "execution_count": 77,
   "metadata": {},
   "outputs": [
    {
     "data": {
      "text/plain": [
       "Text(0,0.5,'norm')"
      ]
     },
     "execution_count": 77,
     "metadata": {},
     "output_type": "execute_result"
    },
    {
     "data": {
      "image/png": "[encoded data removed]",
      "text/plain": [
       "<matplotlib.figure.Figure at 0x2493a409630>"
      ]
     },
     "metadata": {},
     "output_type": "display_data"
    }
   ],
   "source": [
    "plt.plot(range(len(loss_history)), loss_history)\n",
    "plt.title(\"Learning process\")\n",
    "plt.xlabel(\"iter\")\n",
    "plt.ylabel(\"norm\")"
   ]
  },
  {
   "cell_type": "markdown",
   "metadata": {},
   "source": [
    "### Unmixing sounds"
   ]
  },
  {
   "cell_type": "markdown",
   "metadata": {},
   "source": [
    "Use learned matrix $ W $ to unmix the sounds into separate data sources. Make sure you represent the resulting unmixing matrix in a way so that each row is a separate track (i.e. the matrix should have 5 rows)."
   ]
  },
  {
   "cell_type": "code",
   "execution_count": 78,
   "metadata": {},
   "outputs": [],
   "source": [
    "# =============== TODO: Your code here ===============\n",
    "# Use learned matrix W to unmix the sounds into separate data sources.\n",
    "\n",
    "unmixed = W.dot(data_normalized.transpose())\n",
    "\n",
    "# ===================================================="
   ]
  },
  {
   "cell_type": "markdown",
   "metadata": {},
   "source": [
    "Saving unmixed sounds. Please note that some players may not support the resulting WAV format. If that is the case, you can use Winamp to play the unmixed sounds."
   ]
  },
  {
   "cell_type": "code",
   "execution_count": 79,
   "metadata": {},
   "outputs": [],
   "source": [
    "# maxs = np.max(np.abs(unmixed), axis=0)\n",
    "# unmixed_normalized = 0.99 * unmixed / maxs\n",
    "maxs = np.max(np.abs(unmixed), axis=1)\n",
    "unmixed_normalized = 0.99 * unmixed / maxs[:,None]\n",
    "\n",
    "\n",
    "for i in range(unmixed_normalized.shape[0]):\n",
    "    track = unmixed_normalized[i,:]\n",
    "    scipy.io.wavfile.write('unmixed/unmixed'+str(i)+'.wav', sample_rate, track)"
   ]
  }
 ],
 "metadata": {
  "kernelspec": {
   "display_name": "Python 3",
   "language": "python",
   "name": "python3"
  },
  "language_info": {
   "codemirror_mode": {
    "name": "ipython",
    "version": 3
   },
   "file_extension": ".py",
   "mimetype": "text/x-python",
   "name": "python",
   "nbconvert_exporter": "python",
   "pygments_lexer": "ipython3",
   "version": "3.6.4"
  }
 },
 "nbformat": 4,
 "nbformat_minor": 2
}
